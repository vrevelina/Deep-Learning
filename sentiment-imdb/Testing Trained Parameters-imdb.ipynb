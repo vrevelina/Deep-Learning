{
 "cells": [
  {
   "cell_type": "markdown",
   "metadata": {},
   "source": [
    "# Test the Network"
   ]
  },
  {
   "cell_type": "code",
   "execution_count": 1,
   "metadata": {},
   "outputs": [],
   "source": [
    "import torch\n",
    "import torch.nn as nn\n",
    "import torch.nn.functional as F\n",
    "import torch.optim as optim\n",
    "import random\n",
    "import utils\n",
    "import time\n",
    "device= torch.device(\"cuda\")"
   ]
  },
  {
   "cell_type": "markdown",
   "metadata": {},
   "source": [
    "### Neural network class"
   ]
  },
  {
   "cell_type": "code",
   "execution_count": 2,
   "metadata": {},
   "outputs": [],
   "source": [
    "class rec_neural_net(nn.Module):\n",
    "    \n",
    "    def __init__(self, vocab_size, embedding_size, hidden_size, output_size, num_layers):\n",
    "        super().__init__()\n",
    "        \n",
    "        self.emb_layer = nn.Embedding(vocab_size, embedding_size)\n",
    "        self.rec_layer = nn.LSTM(embedding_size, hidden_size, num_layers=num_layers, bidirectional=True)\n",
    "        self.lin_layer = nn.Linear(hidden_size*2, output_size)\n",
    "        \n",
    "        \n",
    "    def forward(self, input_seq):\n",
    "        \n",
    "        # EMBED THE INPUT SEQUENCE\n",
    "        # input_seq is a LongTensor of size:   sentence_length x bs\n",
    "        # input_seq_emb is a Tensor of size:   sentence_length x bs x embedding_size\n",
    "        input_seq_emb = self.emb_layer( input_seq )\n",
    "    \n",
    "        # PROCESS THE SEQUENCE WITH A BIDIRECTIONAL LSTM\n",
    "        # h_last is (2*num_layers) x bs x hidden_size\n",
    "        output_seq , (h_last, c_last) = self.rec_layer( input_seq_emb )\n",
    "        \n",
    "        # CONCATENATE THE OUTPUT OF THE LSTM FROM EACH DIRECTION\n",
    "        # h_direc_12 is bs x (2*hidden_size)\n",
    "        h_direc_1  = h_last[-1,:,:]\n",
    "        h_direc_2  = h_last[-2,:,:]\n",
    "        h_direc_12 = torch.cat( (h_direc_1, h_direc_2)  , dim=1) \n",
    "        \n",
    "        # COMPUTE THE SCORES\n",
    "        scores = self.lin_layer( h_direc_12 )\n",
    "            \n",
    "        return scores"
   ]
  },
  {
   "cell_type": "markdown",
   "metadata": {},
   "source": [
    "### Instanciate the network"
   ]
  },
  {
   "cell_type": "code",
   "execution_count": 3,
   "metadata": {},
   "outputs": [
    {
     "name": "stdout",
     "output_type": "stream",
     "text": [
      "rec_neural_net(\n",
      "  (emb_layer): Embedding(25002, 50)\n",
      "  (rec_layer): LSTM(50, 50, num_layers=2, bidirectional=True)\n",
      "  (lin_layer): Linear(in_features=100, out_features=2, bias=True)\n",
      ")\n",
      "There are 1351902 (1.35 million) parameters in this neural network\n"
     ]
    }
   ],
   "source": [
    "vocab_size = 25002\n",
    "num_layers = 2\n",
    "emb_size=50\n",
    "hid_size=50\n",
    "out_size=2\n",
    "\n",
    "net=rec_neural_net(vocab_size,emb_size,hid_size, out_size, num_layers)\n",
    "net = net.to(device)\n",
    "\n",
    "print(net)\n",
    "utils.display_num_param(net)"
   ]
  },
  {
   "cell_type": "markdown",
   "metadata": {},
   "source": [
    "### Replace the random weights by learned weigths"
   ]
  },
  {
   "cell_type": "code",
   "execution_count": 4,
   "metadata": {},
   "outputs": [],
   "source": [
    "net.load_state_dict( torch.load( 'trained_parameters_LSTM.pt' ) )"
   ]
  },
  {
   "cell_type": "markdown",
   "metadata": {},
   "source": [
    "### Putting in Random Reviews from the IMDB Website (With spaces between periods and words)."
   ]
  },
  {
   "cell_type": "code",
   "execution_count": 9,
   "metadata": {},
   "outputs": [
    {
     "name": "stdout",
     "output_type": "stream",
     "text": [
      "Every puzzle piece clicks together smoothly, and while there is joy in watching everything fit , the film feels like there's something missing. It lacks true substance. It's all aesthetics , no guts. But damn if the Bad Times aren't beautiful to watch .\n"
     ]
    }
   ],
   "source": [
    "# Bad Times at the El Royale\n",
    "#review = \"Is it worth wading through 2.5 hours of hyper-violence to arrive at the mildly hopeful suggestion that America's current leadership might unify the country? No. The best thing about Bad Times is Cynthia Erivo's singing. Get the soundtrack, skip the movie.\"\n",
    "review =\"Every puzzle piece clicks together smoothly, and while there is joy in watching everything fit , the film feels like there's something missing. It lacks true substance. It's all aesthetics , no guts. But damn if the Bad Times aren't beautiful to watch .\"\n",
    "#review = \"Bad Times at the El Royale starts with a lot of promise and a full head of steam ; even half-way through I was engaged . But the movie eventually careens off the track .\"\n",
    "#review = \"Bad Times at the El Royale isn't an event . But I was never too bored .\"\n",
    "#review = \"Just on the performances alone , Bad Times at the El Royale is worth your time and money .\"\n",
    "#review = \"The cast are the saving grace of this flamboyant noir carnival that overcooks the cinematography , dialogue , and musical interludes while plot holes and noodly twists present themselves . To put it bluntly , this is 140 minutes of snazzy-looking but forgettable hokum .\"\n",
    "\n",
    "# Goosebumps 2: Haunted Halloween\n",
    "#review =\"It just feels like Sony really wanted to get a sequel out, rushing a lot of elements and making the end product feel disposable.\"\n",
    "#review = \"This is a kid-friendly monster mash , but it's truly no graveyard smash .\" \n",
    "#review = \"Fails to capture the same energetic spark of the predecessor , but it's an enjoyable family horror film fit for the season nonetheless .\"\n",
    "#review =\"Goosebumps 2 is like something you'd see on Nickelodeon around this time of year - glossy, spooky, well-acted, and just about entertaining enough for a lazy Sunday afternoon .\"\n",
    "#review =\"Goosebumps 2 is a slapdash sequel to the 2015 hit, picking up with a new group of kids but carrying over the same sense of Halloween fun and mischief as the original .\"\n",
    "#review =\"This is not a film that spends time on character development or lessons learned. This is just about the boo-scares and special effects (that spider is pretty cool) , the kind of silliness kids love (a skeleton dog pees on a fire hydrant), and a few self-aware references (Stine sees an “ It ”-style red balloon and sniffs that he thought if it first) . There is that perennial kid favorite: triumph over a bully , plus a reassuring chance to out grown-up the grown-ups and rescue a mom . It’s not as clever or engaging as the first “ Goosebumps , ” and nowhere near Halloween classics like “Monster House , ” “ The Nightmare Before Christmas , ” or “ ParaNorman . ” But striking the right balance of silly and scary makes it trick or treat-worthy , the cinematic equivalent of a fun-size candy bar .\"\n",
    "\n",
    "print(review)"
   ]
  },
  {
   "cell_type": "markdown",
   "metadata": {},
   "source": [
    "### Feed this tensor to the net. "
   ]
  },
  {
   "cell_type": "code",
   "execution_count": 11,
   "metadata": {},
   "outputs": [
    {
     "name": "stdout",
     "output_type": "stream",
     "text": [
      "tensor([[-0.5184,  0.5441]], device='cuda:0', grad_fn=<ThAddmmBackward>)\n"
     ]
    }
   ],
   "source": [
    "x = utils.text2tensor(review)\n",
    "bs = 1\n",
    "x = x.view(-1,1)\n",
    "scores = net( x.to(device) )\n",
    "\n",
    "print(scores)"
   ]
  },
  {
   "cell_type": "markdown",
   "metadata": {},
   "source": [
    "### Put the scores through a softmax then display."
   ]
  },
  {
   "cell_type": "code",
   "execution_count": 12,
   "metadata": {},
   "outputs": [
    {
     "data": {
      "image/png": "[encoded data removed]",
      "text/plain": [
       "<Figure size 640x480 with 1 Axes>"
      ]
     },
     "metadata": {},
     "output_type": "display_data"
    }
   ],
   "source": [
    "p = F.softmax(scores,dim=1)\n",
    "\n",
    "utils.show_prob_imdb(p)"
   ]
  },
  {
   "cell_type": "code",
   "execution_count": null,
   "metadata": {
    "collapsed": true
   },
   "outputs": [],
   "source": []
  }
 ],
 "metadata": {
  "kernelspec": {
   "display_name": "Python 3",
   "language": "python",
   "name": "python3"
  },
  "language_info": {
   "codemirror_mode": {
    "name": "ipython",
    "version": 3
   },
   "file_extension": ".py",
   "mimetype": "text/x-python",
   "name": "python",
   "nbconvert_exporter": "python",
   "pygments_lexer": "ipython3",
   "version": "3.7.0"
  }
 },
 "nbformat": 4,
 "nbformat_minor": 2
}
